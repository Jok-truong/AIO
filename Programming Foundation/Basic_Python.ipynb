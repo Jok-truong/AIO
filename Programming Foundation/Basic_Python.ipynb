{
  "nbformat": 4,
  "nbformat_minor": 0,
  "metadata": {
    "colab": {
      "provenance": [],
      "collapsed_sections": [
        "Q1ebz1Eczv8x",
        "4E3S3gww2vSY",
        "fL1hsdZT50ve",
        "xYRmks-FAcgG"
      ],
      "authorship_tag": "ABX9TyN3++1h6amfrnBqCa60EdBS",
      "include_colab_link": true
    },
    "kernelspec": {
      "name": "python3",
      "display_name": "Python 3"
    },
    "language_info": {
      "name": "python"
    }
  },
  "cells": [
    {
      "cell_type": "markdown",
      "metadata": {
        "id": "view-in-github",
        "colab_type": "text"
      },
      "source": [
        "<a href=\"https://colab.research.google.com/github/Jok-truong/AIO/blob/main/Programming%20Foundation/Basic_Python.ipynb\" target=\"_parent\"><img src=\"https://colab.research.google.com/assets/colab-badge.svg\" alt=\"Open In Colab\"/></a>"
      ]
    },
    {
      "cell_type": "markdown",
      "source": [
        "# 1. Primitive Datatypes and Operators\n"
      ],
      "metadata": {
        "id": "KxA0QlCE7s-M"
      }
    },
    {
      "cell_type": "markdown",
      "source": [
        "## Number\n",
        "\n",
        "*   Interger: Represents a **whole number**. It can be positive or negative and can be of any length. It should not contain decimals.\n",
        "*   Float: Represents **decimal point number**. They can be positive or negative and can be of any length\n",
        "*   Complex: Represents **complex numbers** with \"j\" indicating imaginary part\n",
        "\n",
        "\n",
        "\n"
      ],
      "metadata": {
        "id": "Q1ebz1Eczv8x"
      }
    },
    {
      "cell_type": "code",
      "execution_count": null,
      "metadata": {
        "id": "ozF-9tH3z13Y"
      },
      "outputs": [],
      "source": [
        "# You have number\n",
        "a = 3 # => 3\n",
        "# You create int variable using int()\n",
        "a_1 = int(3)    # => 3\n",
        "a_2 = int(3.2)  # => 3\n",
        "a_3 = int(\"3\")  # => 3\n",
        "# a_4 = int(\"abc\") # => Error: Invalid integer value. \"abc\" can't be converted to int\n",
        "\n",
        "# You can do math to numbers\n",
        "b = 2 + 3       # => 5\n",
        "e = 3 - 2       # => 1\n",
        "d = 3 * 2       # => 6\n",
        "c = 3 / 2       # => 1.5\n",
        "f = 5 % 3       # => 2\n",
        "\n",
        "# Floor division rounds towards negative infintity\n",
        "g = 5 // 3      # => 1\n",
        "h = -5 // 3     # => -2\n",
        "i = 5.0 // 3.0  # => 1.0 # works on floats too\n",
        "j = -5.0 // 3.0 # => -2.0\n",
        "\n",
        "# The result of division is always a float\n",
        "k = 10.0 / 3.0  # => 3.3333333333333335\n",
        "\n",
        "# Modulo operation\n",
        "l = 7 % 3       # => 1\n",
        "\n",
        "# Exponentiation (x**y, x to the yth power)\n",
        "m = 2**3        # => 8\n",
        "\n",
        "# Enforce precedence with parentheses\n",
        "n = (1 + 3) * 2 # => 8\n",
        "\n",
        "# complex numbers\n",
        "complex_number = 1 + 2j             # => (1+2j)\n",
        "# complex numbers can also constructed using complex() method\n",
        "complex_number_2 = complex(10)      # => (10+0j)\n",
        "complex_number_3 = complex(1, 2)    # => (1+2j)"
      ]
    },
    {
      "cell_type": "markdown",
      "source": [
        "## String\n",
        "- Represents strings in python which are either enclosed within single quotation mark `('')` or double quotation mark `(\"\")`"
      ],
      "metadata": {
        "id": "4E3S3gww2vSY"
      }
    },
    {
      "cell_type": "code",
      "source": [
        "# String are created with \"\" or ''\n",
        "a = \"This is a string\"\n",
        "b = \"This is also a string\"\n",
        "\n",
        "# You can create multiline strings with \"\"\" or '''\n",
        "my_str = \"\"\"\n",
        "    This is a multiline string.\n",
        "    It can span multiple lines.\n",
        "\"\"\"\n",
        "\n",
        "# Strings can be added too!\n",
        "c = \"Hello \" + \"world!\"     # => \"Hello world!\n",
        "d = \"Hello \" \"world!\"       # => \"Hello world!\n",
        "f = \"Hello \" * 3            # => \"Hello Hello Hello\n",
        "\n",
        "# A string can be treated like a list of characters\n",
        "e = \"This is a string\"[0]   # => 'T'\n",
        "\n",
        "# You can find the length of a string\n",
        "g = len(\"This is a string\")  # => 16\n",
        "\n",
        "# You can use f-strings or formatted string literals.\n",
        "name = \"JOK\"\n",
        "print(f\"My name is {name}\")  # => My name is JOK\n",
        "# Any vaild python expression inside these braces is retured to the string\n",
        "print(f\"{name} is {len(name)} characters long\") # => \"JOK is 3 characters long\""
      ],
      "metadata": {
        "id": "hYevw5oMKfOU",
        "colab": {
          "base_uri": "https://localhost:8080/"
        },
        "outputId": "ef29c1f7-2002-4fec-b466-d4bccf7c3a85"
      },
      "execution_count": null,
      "outputs": [
        {
          "output_type": "stream",
          "name": "stdout",
          "text": [
            "My name is JOK\n",
            "JOK is 3 characters long\n"
          ]
        }
      ]
    },
    {
      "cell_type": "markdown",
      "source": [
        "## Boolean:\n",
        "- `bool`: represents boolean types in Python which hold any one of two values : True or False.\n",
        "\n"
      ],
      "metadata": {
        "id": "fL1hsdZT50ve"
      }
    },
    {
      "cell_type": "code",
      "source": [
        "# Boolean values are primitives\n",
        "# Note the capitalization\n",
        "a = True\n",
        "b = False\n",
        "\n",
        "# None, 0, and empty string/lists/dicts/tuples/sets all evaluate to False\n",
        "bool(0)           # => False\n",
        "bool(\"\")          # => False\n",
        "bool([])          # => False\n",
        "bool({})          # => False\n",
        "bool(())          # => False\n",
        "bool(set())       # => False\n",
        "# All other values are True\n",
        "bool(4)           # => True\n",
        "bool(-6)          # => True\n",
        "\n",
        "# negate with note\n",
        "c = not a         # => False\n",
        "d = not b         # => True\n",
        "\n",
        "# Boolean Operators\n",
        "# Note \"and\" and \"or\" are case-sensitive\n",
        "e = a and b        # => False\n",
        "f = a or b         # => True\n",
        "\n",
        "# True and False are actually 1 and 0 but with different keywords\n",
        "g = True + True     # => 2\n",
        "h = True * 8        # => 8\n",
        "i = False - 5       # => -5\n",
        "\n",
        "# Comparison operators look at the numberical value of True and False\n",
        "j = 0 == False      # => True\n",
        "k = 2 > True        # => False\n",
        "l = 3 == True       # => True\n",
        "m = -5 != False     # => True\n",
        "\n",
        "# (is vs ==)\n",
        "# is checks if two variables refer to the same object\n",
        "# == checks if the objects pointed to have the same values\n",
        "o = [1,2,3,4,5]     # Point a at a new list [1,2,3,4,5]\n",
        "p = o               # Point p at the same list as o\n",
        "p is o              # => True, a and b refer to the same object\n",
        "p == o              # => True, a and b have the same value\n",
        "p = [1,2,3,4,5]     # Point p at a new list [1,2,3,4,5]\n",
        "p is o              # => False, a and b do not refer to the same object\n",
        "p == o              # => True, a and b have the same"
      ],
      "metadata": {
        "id": "er5AylXtDAPj"
      },
      "execution_count": null,
      "outputs": []
    },
    {
      "cell_type": "markdown",
      "source": [
        "## None\n",
        "-  `None` keyword is used to represent a null value or no value."
      ],
      "metadata": {
        "id": "xYRmks-FAcgG"
      }
    },
    {
      "cell_type": "code",
      "source": [
        "# None is an object\n",
        "a = None  # => None\n",
        "\n",
        "# Don't use the equality \"==\" symbol to compare objects to None\n",
        "# Use \"is\" instead\n",
        "# \"is\" is check if the object is None\n",
        "\"@\" is None  # => False\n",
        "a is None  # => True\n"
      ],
      "metadata": {
        "colab": {
          "base_uri": "https://localhost:8080/"
        },
        "id": "eEBFT5MnAtvM",
        "outputId": "12c853fa-69c9-47d6-d425-9e75ed6d7c1c"
      },
      "execution_count": null,
      "outputs": [
        {
          "output_type": "stream",
          "name": "stdout",
          "text": [
            "False\n"
          ]
        },
        {
          "output_type": "stream",
          "name": "stderr",
          "text": [
            "<>:7: SyntaxWarning: \"is\" with a literal. Did you mean \"==\"?\n",
            "<>:7: SyntaxWarning: \"is\" with a literal. Did you mean \"==\"?\n",
            "<ipython-input-3-9850caed0d8f>:7: SyntaxWarning: \"is\" with a literal. Did you mean \"==\"?\n",
            "  print(\"@\" is None)  # => False\n"
          ]
        },
        {
          "output_type": "execute_result",
          "data": {
            "text/plain": [
              "True"
            ]
          },
          "metadata": {},
          "execution_count": 3
        }
      ]
    },
    {
      "cell_type": "markdown",
      "source": [
        "## Collection types\n",
        "- Collection types represents a collection of values\n",
        "\n"
      ],
      "metadata": {
        "id": "Lp660RhZCGBU"
      }
    },
    {
      "cell_type": "markdown",
      "source": [
        "### List\n",
        "- Represent mutable ordered sequences of values.\n",
        "- Type: `list`\n",
        "- List literals are written in between square brackets, e.g. `[1, 2, 3]`\n",
        "- List elements can be objects of any type (including other lists).\n",
        "- Like strings, lists can be indexed like so: `x[3]`\n",
        "- Indices are zero-based (but you may also use negative indices to access items with respect to the right end of the list).\n",
        "- Lists are mutable. You can update items, delete items and add new items.\n",
        "Indexing into a list is a constant time (amortised) operation."
      ],
      "metadata": {
        "id": "QhRRgbsTO3f1"
      }
    },
    {
      "cell_type": "code",
      "source": [
        "# Lists store sequences\n",
        "li = []\n",
        "\n",
        "# You can start with a prefilled list\n",
        "other_li = [1,2,3]\n",
        "\n",
        "# Add stuff to the end of a list with append()\n",
        "li.append(1)    # li is now [1]\n",
        "li.append(2)    # li is now [1, 2]\n",
        "li.append(4)    # li is now [1, 2, 4]\n",
        "li.append(3)    # li is now [1, 2, 4, 3]\n",
        "\n",
        "# Remove from the end with pop()\n",
        "li.pop()        # 3 and li is now [1,2.4]\n",
        "# Let's put it back\n",
        "li.append(3)    # li is now [1, 2, 4, 3] again.\n",
        "\n",
        "# Acces a list lie you would any array\n",
        "li[0]           # => 1\n",
        "# Look at the last element\n",
        "li[-1]          # => 3\n",
        "\n",
        "# Slicing\n",
        "# You can look at ranges with slice syntax\n",
        "# The start index is included, the end index is not\n",
        "# (It's a closed/open range for you mathy types)\n",
        "# Note:   li[start:end:step]\n",
        "li[1:3]         # Return list from index 1 to 3 => [2, 4]\n",
        "li[2:]          # Return list starting from index 2 => [4, 3]\n",
        "li[:3]          # Return list from beginning until index 3  => [1, 2, 4]\n",
        "li[::2]         # Return list selecting elements with a step size of 2 => [1, 4]\n",
        "li[::-1]        # Return list in reverse order => [3, 4, 2, 1]\n",
        "\n",
        "# Deep copy using slices\n",
        "li2 = li[:]\n",
        "print((li))      # => [1, 2, 4]\n",
        "print((li2))     # => [1, 2, 4]\n",
        "print(li == li2) # => True\n",
        "print(li is li2) # => False\n",
        "\n",
        "# Remove arbitrary elements from a list with \"del\"\n",
        "del li[2]       # li is now [1, 2]\n",
        "\n",
        "# Remove first occurrence of a value\n",
        "li.remove(2)    # li is now [1, 3]\n",
        "# li.remove(2)  # Raises a ValueError as 2 is not in the list\n",
        "\n",
        "# Insert an element at a specific index\n",
        "li.insert(1,2)      # li is now [1, 2]\n",
        "li.insert(0, 4)     # li is now [4, 1, 2]\n",
        "li.insert(100, 5)   # li is now [4, 1, 2, 3,5]\n",
        "li\n",
        "\n",
        "# Get the index of the first item found matching the argument\n",
        "li.index(4)         # => 0\n",
        "# li.index(6)       # Raises a ValueError as 6 is not in the list\n",
        "\n",
        "# You can add lists\n",
        "# Note: values for li and for other_li are not modified.\n",
        "li + other_li       # => [1, 2, 4, 1, 2, 3]\n",
        "\n",
        "# Concatenate lists with \"extend()\"\n",
        "li.extend(other_li) # => [1, 2, 4, 1, 2, 3]\n",
        "# Check for existence in a list with \"in\"\n",
        "1 in li  # => True\n",
        "\n",
        "# Examine the length with \"len()\"\n",
        "len(li)  # => 6"
      ],
      "metadata": {
        "colab": {
          "base_uri": "https://localhost:8080/",
          "height": 245
        },
        "id": "zvR2-7EfEDnD",
        "outputId": "72bc2803-e39e-41c0-e743-cb2f2704d883"
      },
      "execution_count": null,
      "outputs": [
        {
          "output_type": "stream",
          "name": "stdout",
          "text": [
            "[1, 2, 4, 3]\n",
            "[1, 2, 4, 3]\n",
            "True\n",
            "False\n"
          ]
        },
        {
          "output_type": "error",
          "ename": "ValueError",
          "evalue": "6 is not in list",
          "traceback": [
            "\u001b[0;31m---------------------------------------------------------------------------\u001b[0m",
            "\u001b[0;31mValueError\u001b[0m                                Traceback (most recent call last)",
            "\u001b[0;32m<ipython-input-48-e088fb989351>\u001b[0m in \u001b[0;36m<cell line: 56>\u001b[0;34m()\u001b[0m\n\u001b[1;32m     54\u001b[0m \u001b[0;31m# Get the index of the first item found matching the argument\u001b[0m\u001b[0;34m\u001b[0m\u001b[0;34m\u001b[0m\u001b[0m\n\u001b[1;32m     55\u001b[0m \u001b[0mli\u001b[0m\u001b[0;34m.\u001b[0m\u001b[0mindex\u001b[0m\u001b[0;34m(\u001b[0m\u001b[0;36m4\u001b[0m\u001b[0;34m)\u001b[0m     \u001b[0;31m# => 0\u001b[0m\u001b[0;34m\u001b[0m\u001b[0;34m\u001b[0m\u001b[0m\n\u001b[0;32m---> 56\u001b[0;31m \u001b[0mli\u001b[0m\u001b[0;34m.\u001b[0m\u001b[0mindex\u001b[0m\u001b[0;34m(\u001b[0m\u001b[0;36m6\u001b[0m\u001b[0;34m)\u001b[0m     \u001b[0;31m# Raises a ValueError as 6 is not in the list\u001b[0m\u001b[0;34m\u001b[0m\u001b[0;34m\u001b[0m\u001b[0m\n\u001b[0m",
            "\u001b[0;31mValueError\u001b[0m: 6 is not in list"
          ]
        }
      ]
    },
    {
      "cell_type": "markdown",
      "source": [
        "### Tuple\n",
        "- Represent immutable ordered sequences of values.\n",
        "- Very much like lists except they cannot be modified once created.\n",
        "- Type: `tuple`\n",
        "- Literals are written in between parentheses: `(1, 2, 3)`\n",
        "- They can be used as keys in dictionaries (unlike lists)."
      ],
      "metadata": {
        "id": "4dciGEn2PQCU"
      }
    },
    {
      "cell_type": "code",
      "source": [
        "# Tuples are like lists but are immutable\n",
        "tup = (1, 2, 3)\n",
        "tup[0]          # => 1\n",
        "# tup[0] = 3      # Raises a TypeError\n",
        "\n",
        "# Note: A tuple of length one has to have a comma after the last element but tuples of other lengths, even zero, do not\n",
        "tup = (1)       # => <class 'int'> => 1, not (1)\n",
        "tup = (1,)      # => (1,)\n",
        "tup = ()        # => ()\n",
        "\n",
        "# You can do most of the list operations on tuples too\n",
        "len(tup)         # => 3\n",
        "tup + (4, 5, 6)  # => (1, 2, 3, 4, 5, 6)\n",
        "tup[:2]          # => (1, 2)\n",
        "2 in tup         # => True\n",
        "\n",
        "# You can unpack tuples (or lists) into variables\n",
        "a, b, c = (1, 2, 3)     # a is now 1, b is now 2 and c is now 3\n",
        "\n",
        "# You can also do extended unpacking\n",
        "a, *b, c = (1, 2, 3, 4)  # a is now 1, b is now [2, 3] and c is now 4\n",
        "\n",
        "# Tuples are created by default if you leave out the parentheses\n",
        "d, e, f = 4, 5, 6   # tuple 4, 5, 6 is unpacked into variables d, e and f\n",
        "\n",
        "# respectively such that d = 4, e = 5 and f = 6\n",
        "# Now look how easy it is to swap two values\n",
        "e, d = d, e         # d is now 5 and e is now 4"
      ],
      "metadata": {
        "colab": {
          "base_uri": "https://localhost:8080/"
        },
        "id": "gtJ14-bTPkjF",
        "outputId": "8419a31b-baad-4f38-ed63-0b8eaf3afb70"
      },
      "execution_count": 60,
      "outputs": [
        {
          "output_type": "stream",
          "name": "stdout",
          "text": [
            "<class 'int'>\n"
          ]
        }
      ]
    },
    {
      "cell_type": "markdown",
      "source": [
        "### Set\n",
        "- Sets are unordered collections of objects, containing no duplicates.\n",
        "- Type: `set`\n",
        "- Set literals are written in between curly brackets `{ ... }`, but don't confuse them with dictionaries. Sets only have values, not keys-and-values.\n",
        "- Sets support standard mathematical operations such as union, intersection and difference.\n",
        "- Sets support fast insertion and lookup."
      ],
      "metadata": {
        "id": "jbv56X7XSHay"
      }
    },
    {
      "cell_type": "code",
      "source": [
        "empty_set = set()\n",
        "\n",
        "# Initialize a set with a bunch of values.\n",
        "some_set = {1, 1, 2, 2, 3, 4}   # some_set is now {1, 2, 3, 4}\n",
        "\n",
        "# Similar to keys of a dictionary, elements of a set have to be immutable.\n",
        "# invalid_set = {[1], 1}        # => Raises a TypeError: unhashable type: 'list'\n",
        "valid_set = {(1,), 1}\n",
        "\n",
        "# Add one more item to the set\n",
        "filled_set = some_set\n",
        "filled_set.add(5)               # filled_set is now {1, 2, 3, 4, 5}\n",
        "# Sets do not have duplicate elements\n",
        "filled_set.add(5)               # it remains as before {1, 2, 3, 4, 5}\n",
        "\n",
        "# Do set intersection with &\n",
        "other_set = {3, 4, 5, 6}\n",
        "filled_set & other_set          # => {3, 4, 5}\n",
        "\n",
        "# Do set union with |\n",
        "filled_set | other_set          # => {1, 2, 3, 4, 5, 6}\n",
        "\n",
        "# Do set difference with -\n",
        "{1, 2, 3, 4} - {2, 3, 5}        # => {1, 4}\n",
        "\n",
        "# Do set symmetric difference with ^\n",
        "{1, 2, 3, 4} ^ {2, 3, 5}        # => {1, 4, 5}\n",
        "\n",
        "# Check if set on the left is a superset of set on the right\n",
        "{1, 2} >= {1, 2, 3}             # => False\n",
        "\n",
        "# Check if set on the left is a subset of set on the right\n",
        "{1, 2} <= {1, 2, 3}             # => True\n",
        "\n",
        "# Check for existence in a set with in\n",
        "2 in filled_set                 # => True\n",
        "10 in filled_set                # => False\n",
        "\n",
        "# Make a one layer deep copy\n",
        "filled_set = some_set.copy()    # filled_set is {1, 2, 3, 4, 5}\n",
        "filled_set is some_set          # => False"
      ],
      "metadata": {
        "colab": {
          "base_uri": "https://localhost:8080/"
        },
        "id": "LDdloAwLmgLc",
        "outputId": "ba137b4d-ded9-45cd-812d-a804d9a4602e"
      },
      "execution_count": 6,
      "outputs": [
        {
          "output_type": "execute_result",
          "data": {
            "text/plain": [
              "{1, 4, 5}"
            ]
          },
          "metadata": {},
          "execution_count": 6
        }
      ]
    },
    {
      "cell_type": "markdown",
      "source": [
        "### Dict\n",
        "- Represent finite mappings from keys to values.\n",
        "- Are implemented as hash tables. The key objects must be hashable (which rules out mutable objects, such as lists).\n",
        "- Type: `dict`\n",
        "- Dictionary literals are written inside curly brackets, with key-value pairs separated by colons: e.g. `{12: \"XII\", 6: \"VI\"}`\n",
        "- Dictionaries can be indexed by keys. If the key exists in the dictionary its corresponding value is returned, otherwise a KeyError exception is raised.\n",
        "- The cost of indexing a dictionary is proportional to the time taken to hash the key. For many keys this can be considered constant time. For variable sized objects, such as strings, this can be considered to be proportional to the size of the object.\n",
        "- Iterating over a dictionary yields one key at a time. All keys in the dictionary are visited exactly once. The order in which the keys are visited is arbitrary.\n",
        "- You may test if an object is a key of a dictionary using the in operator."
      ],
      "metadata": {
        "id": "D5LxxkrInq8A"
      }
    },
    {
      "cell_type": "code",
      "source": [
        "empty_dict = {}\n",
        "\n",
        "# Here is a prefilled dictionary\n",
        "filled_dict = {\"one\": 1, \"two\": 2, \"three\": 3}\n",
        "\n",
        "# Note keys for dictionaries have to be immutable types. This is to ensure that\n",
        "# the key can be converted to a constant hash value for quick look-ups.\n",
        "# Immutable types include ints, floats, strings, tuples.\n",
        "invalid_dict = {[1,2,3]: \"123\"}     # => Yield a TypeError: unhashable type: 'list'\n",
        "valid_dict = {(1,2,3):[1,2,3]}      # Values can be of any type, however.\n",
        "\n",
        "# Look up values with []\n",
        "filled_dict[\"one\"]                  # => 1\n",
        "\n",
        "# Get all keys as an iterable with \"keys()\". We need to wrap the call in list()\n",
        "# to turn it into a list. We'll talk about those later.  Note - for Python\n",
        "# versions <3.7, dictionary key ordering is not guaranteed. Your results might\n",
        "# not match the example below exactly. However, as of Python 3.7, dictionary\n",
        "# items maintain the order at which they are inserted into the dictionary.\n",
        "list(filled_dict.keys())            # => [\"three\", \"two\", \"one\"] in Python <3.7\n",
        "list(filled_dict.keys())            # => [\"one\", \"two\", \"three\"] in Python 3.7+\n",
        "\n",
        "\n",
        "# Get all values as an iterable with \"values()\". Once again we need to wrap it\n",
        "# in list() to get it out of the iterable. Note - Same as above regarding key\n",
        "# ordering.\n",
        "list(filled_dict.values())          # => [3, 2, 1]  in Python <3.7\n",
        "list(filled_dict.values())          # => [1, 2, 3] in Python 3.7+\n",
        "\n",
        "# Check for existence of keys in a dictionary with \"in\"\n",
        "\"one\" in filled_dict                # => True\n",
        "1 in filled_dict                    # => False\n",
        "\n",
        "# Looking up a non-existing key is a KeyError\n",
        "# filled_dict[\"four\"]  # KeyError\n",
        "\n",
        "# Use \"get()\" method to avoid the KeyError\n",
        "filled_dict.get(\"one\")              # => 1\n",
        "filled_dict.get(\"four\")             # => None\n",
        "# The get method supports a default argument when the value is missing\n",
        "filled_dict.get(\"one\", 4)           # => 1\n",
        "filled_dict.get(\"four\", 4)          # => 4\n",
        "\n",
        "# \"setdefault()\" inserts into a dictionary only if the given key isn't present\n",
        "filled_dict.setdefault(\"five\", 5)   # filled_dict[\"five\"] is set to 5\n",
        "filled_dict.setdefault(\"five\", 6)   # filled_dict[\"five\"] is still 5\n",
        "\n",
        "# Adding to a dictionary\n",
        "filled_dict.update({\"four\":4})      # => {\"one\": 1, \"two\": 2, \"three\": 3, \"four\": 4}\n",
        "filled_dict[\"four\"] = 4             # another way to add to dict\n",
        "\n",
        "# Remove keys from a dictionary with del\n",
        "del filled_dict[\"one\"]              # Removes the key \"one\" from filled dict\n",
        "\n",
        "# From Python 3.5 you can also use the additional unpacking options\n",
        "{\"a\": 1, **{\"b\": 2}}                # => {'a': 1, 'b': 2}\n",
        "{\"a\": 1, **{\"a\": 2}}                # => {'a': 2}\n"
      ],
      "metadata": {
        "id": "gBis-RU0n3N4"
      },
      "execution_count": null,
      "outputs": []
    }
  ]
}